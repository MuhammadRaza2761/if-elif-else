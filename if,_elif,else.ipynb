{
  "nbformat": 4,
  "nbformat_minor": 0,
  "metadata": {
    "colab": {
      "provenance": []
    },
    "kernelspec": {
      "name": "python3",
      "display_name": "Python 3"
    },
    "language_info": {
      "name": "python"
    }
  },
  "cells": [
    {
      "cell_type": "code",
      "execution_count": null,
      "metadata": {
        "id": "n2GTsB1_i-E6"
      },
      "outputs": [],
      "source": []
    },
    {
      "cell_type": "markdown",
      "source": [
        "**/ Syntax:**\n",
        "\n",
        "\n",
        "\n",
        "\n",
        "\n"
      ],
      "metadata": {
        "id": "h9g1VJzMkIwg"
      }
    },
    {
      "cell_type": "markdown",
      "source": [
        "if test expression:\n",
        "\n",
        "    Body of if\n",
        "\n",
        " else:\n",
        "\n",
        "    Body of else"
      ],
      "metadata": {
        "id": "zQ0weO5Tpb_a"
      }
    },
    {
      "cell_type": "markdown",
      "source": [
        "**/ Example:**\n"
      ],
      "metadata": {
        "id": "p2Ej6-Nak3xo"
      }
    },
    {
      "cell_type": "code",
      "source": [
        "num = -10\n",
        "if num > 0:\n",
        "    print (\"positive number\")\n",
        "else:\n",
        "    print (\"neative number\")"
      ],
      "metadata": {
        "colab": {
          "base_uri": "https://localhost:8080/"
        },
        "id": "0bHYQqHKk2SY",
        "outputId": "4ecbd87a-7cd4-4eb3-f935-78dc69282056"
      },
      "execution_count": 6,
      "outputs": [
        {
          "output_type": "stream",
          "name": "stdout",
          "text": [
            "neative number\n"
          ]
        }
      ]
    },
    {
      "cell_type": "code",
      "source": [
        "num = 25\n",
        "if num> 0:\n",
        "    print(\"positive number\")\n",
        "else:\n",
        "    print(\"negative number\")"
      ],
      "metadata": {
        "colab": {
          "base_uri": "https://localhost:8080/"
        },
        "id": "RrQ8bpYvmJJe",
        "outputId": "c6dedde7-f3d2-4bfd-ae8d-4bd49e9447d9"
      },
      "execution_count": 7,
      "outputs": [
        {
          "output_type": "stream",
          "name": "stdout",
          "text": [
            "positive number\n"
          ]
        }
      ]
    },
    {
      "cell_type": "code",
      "source": [
        "num = 20\n",
        "if num % 2 ==0 :\n",
        "    print(\"The number is Even\")\n",
        "else:\n",
        "    print(\"The number is Odd\")"
      ],
      "metadata": {
        "colab": {
          "base_uri": "https://localhost:8080/"
        },
        "id": "98ynWfxqnEDu",
        "outputId": "37386110-ae64-492a-df4f-e62d3a6eb1de"
      },
      "execution_count": 8,
      "outputs": [
        {
          "output_type": "stream",
          "name": "stdout",
          "text": [
            "The number is Even\n"
          ]
        }
      ]
    },
    {
      "cell_type": "code",
      "source": [
        "num = 33\n",
        "if num % 2 ==0 :\n",
        "    print(\"The number is Even\")\n",
        "else:\n",
        "    print(\"The number is Odd\")"
      ],
      "metadata": {
        "colab": {
          "base_uri": "https://localhost:8080/"
        },
        "id": "sI_Sd5jNnx7r",
        "outputId": "f4c845f9-870d-4b5a-a3b5-3d768f3337b2"
      },
      "execution_count": 9,
      "outputs": [
        {
          "output_type": "stream",
          "name": "stdout",
          "text": [
            "The number is Odd\n"
          ]
        }
      ]
    },
    {
      "cell_type": "code",
      "source": [
        "num = 2020\n",
        "if num % 4 == 0:\n",
        "  print(\"The year is a leap year\")\n",
        "else :\n",
        "    print(\"The year is not leap year\")"
      ],
      "metadata": {
        "colab": {
          "base_uri": "https://localhost:8080/"
        },
        "id": "6PRpkk_UoL0b",
        "outputId": "f74669e7-c64f-478d-930c-aa3451a1c84c"
      },
      "execution_count": 10,
      "outputs": [
        {
          "output_type": "stream",
          "name": "stdout",
          "text": [
            "The year is a leap year\n"
          ]
        }
      ]
    },
    {
      "cell_type": "code",
      "source": [
        "num = 2023\n",
        "if num % 4 == 0:\n",
        "  print(\"The year is a leap year\")\n",
        "else :\n",
        "    print(\"The year is not leap year\")"
      ],
      "metadata": {
        "colab": {
          "base_uri": "https://localhost:8080/"
        },
        "id": "kxcbvz1fo2Eu",
        "outputId": "93ac3c13-f8f5-4de0-a88c-21352a26c88b"
      },
      "execution_count": 11,
      "outputs": [
        {
          "output_type": "stream",
          "name": "stdout",
          "text": [
            "The year is not leap year\n"
          ]
        }
      ]
    },
    {
      "cell_type": "markdown",
      "source": [
        "**/ Syntax:**"
      ],
      "metadata": {
        "id": "BDSLkSMZqLT4"
      }
    },
    {
      "cell_type": "markdown",
      "source": [
        "if test expression:\n",
        "\n",
        "      Body of if\n",
        "\n",
        "elif test expression:\n",
        "\n",
        "      Body of elif\n",
        "\n",
        "else test expression:\n",
        "\n",
        "      Body of else"
      ],
      "metadata": {
        "id": "U-FwT4J-qUjh"
      }
    },
    {
      "cell_type": "code",
      "source": [
        " num = 0\n",
        "\n",
        "if num > 0:\n",
        "  print(\"Positive number\")\n",
        "elif num == 0:\n",
        "  print(\"Zero\")\n",
        "else:\n",
        "  print(\"Negative\")\n"
      ],
      "metadata": {
        "colab": {
          "base_uri": "https://localhost:8080/"
        },
        "id": "Vl7bmqqgrEjW",
        "outputId": "1dc6b024-c436-41f3-ba07-bbf2a5ce2734"
      },
      "execution_count": 12,
      "outputs": [
        {
          "output_type": "stream",
          "name": "stdout",
          "text": [
            "Zero\n"
          ]
        }
      ]
    },
    {
      "cell_type": "code",
      "source": [
        " num = 20\n",
        "\n",
        "if num > 0:\n",
        "  print(\"Positive number\")\n",
        "elif num == 0:\n",
        "  print(\"Zero\")\n",
        "else:\n",
        "  print(\"Negative\")"
      ],
      "metadata": {
        "colab": {
          "base_uri": "https://localhost:8080/"
        },
        "id": "kZ7OeEGJsNnF",
        "outputId": "c958993f-1c29-49ed-e20f-1629a3d3efde"
      },
      "execution_count": 13,
      "outputs": [
        {
          "output_type": "stream",
          "name": "stdout",
          "text": [
            "Positive number\n"
          ]
        }
      ]
    },
    {
      "cell_type": "code",
      "source": [
        " num = -9\n",
        "\n",
        "if num > 0:\n",
        "  print(\"Positive number\")\n",
        "elif num == 0:\n",
        "  print(\"Zero\")\n",
        "else:\n",
        "  print(\"Negative\")"
      ],
      "metadata": {
        "colab": {
          "base_uri": "https://localhost:8080/"
        },
        "id": "N-lTAZwesRum",
        "outputId": "edf767ec-8112-41c4-b837-6ec9225636e4"
      },
      "execution_count": 14,
      "outputs": [
        {
          "output_type": "stream",
          "name": "stdout",
          "text": [
            "Negative\n"
          ]
        }
      ]
    },
    {
      "cell_type": "code",
      "source": [
        "marks=90\n",
        "if marks >= 90:\n",
        "    print(\"Grade is A\")\n",
        "elif marks >= 80:\n",
        "    print(\"Grade is B\")\n",
        "elif marks >= 70:\n",
        "    print(\"Grade is C\")\n",
        "elif marks >= 60:\n",
        "    print(\"Grade is D\")\n",
        "else :\n",
        "  print(\"Grade is F\")"
      ],
      "metadata": {
        "colab": {
          "base_uri": "https://localhost:8080/"
        },
        "id": "GZPou__JtVql",
        "outputId": "facf8ace-f7bf-46c1-bad9-ce0120f16d30"
      },
      "execution_count": 19,
      "outputs": [
        {
          "output_type": "stream",
          "name": "stdout",
          "text": [
            "Grade is A\n"
          ]
        }
      ]
    },
    {
      "cell_type": "code",
      "source": [
        "marks=70\n",
        "if marks >= 90:\n",
        "    print(\"Grade is A\")\n",
        "elif marks >= 80:\n",
        "    print(\"Grade is B\")\n",
        "elif marks >= 70:\n",
        "    print(\"Grade is C\")\n",
        "elif marks >= 60:\n",
        "    print(\"Grade is D\")\n",
        "else :\n",
        "  print(\"Grade is F\")"
      ],
      "metadata": {
        "colab": {
          "base_uri": "https://localhost:8080/"
        },
        "id": "ZJAYRm5Wu7Yd",
        "outputId": "decc7988-e0ac-40f9-b5b7-d0c0f27948cf"
      },
      "execution_count": 20,
      "outputs": [
        {
          "output_type": "stream",
          "name": "stdout",
          "text": [
            "Grade is C\n"
          ]
        }
      ]
    },
    {
      "cell_type": "code",
      "source": [
        "marks=56\n",
        "if marks >= 90:\n",
        "    print(\"Grade is A\")\n",
        "elif marks >= 80:\n",
        "    print(\"Grade is B\")\n",
        "elif marks >= 70:\n",
        "    print(\"Grade is C\")\n",
        "elif marks >= 60:\n",
        "    print(\"Grade is D\")\n",
        "else :\n",
        "  print(\"Grade is F\")"
      ],
      "metadata": {
        "colab": {
          "base_uri": "https://localhost:8080/"
        },
        "id": "rSl8lt_JvRYv",
        "outputId": "94cbef23-4294-468a-8f3c-16fea9ba8aa9"
      },
      "execution_count": 21,
      "outputs": [
        {
          "output_type": "stream",
          "name": "stdout",
          "text": [
            "Grade is F\n"
          ]
        }
      ]
    }
  ]
}